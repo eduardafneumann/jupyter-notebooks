{
 "cells": [
  {
   "cell_type": "code",
   "execution_count": null,
   "metadata": {
    "colab": {
     "base_uri": "https://localhost:8080/"
    },
    "id": "1OvTiGtAQ-TD",
    "outputId": "54c64187-a684-4fe8-851a-8961899dc1fd",
    "scrolled": true
   },
   "outputs": [],
   "source": [
    "import pandas as pd\n",
    "import seaborn as sns\n",
    "import numpy as np\n",
    "\n",
    "from tabulate import tabulate\n",
    "\n",
    "from sklearn.metrics import accuracy_score, roc_auc_score\n",
    "\n",
    "from sklearn.ensemble import RandomForestClassifier\n",
    "from sklearn.model_selection import GridSearchCV"
   ]
  },
  {
   "cell_type": "markdown",
   "metadata": {
    "id": "FhpIMtJNYsrT"
   },
   "source": [
    "## Questão 1"
   ]
  },
  {
   "cell_type": "markdown",
   "metadata": {
    "id": "xImMPrsRYyl1"
   },
   "source": [
    "A variável resposta é a coluna 'Class', com valor 1 caso seja fraude e valor 0 caso não seja."
   ]
  },
  {
   "cell_type": "code",
   "execution_count": 8,
   "metadata": {},
   "outputs": [],
   "source": [
    "df_train = pd.read_csv('train.csv', sep=',', decimal='.')\n",
    "df_test = pd.read_csv('test.csv', sep=',', decimal='.')"
   ]
  },
  {
   "cell_type": "code",
   "execution_count": 9,
   "metadata": {
    "colab": {
     "base_uri": "https://localhost:8080/",
     "height": 466
    },
    "id": "4oEc97EmWLUV",
    "outputId": "be7f983b-2371-4292-83a9-70d672461c3a"
   },
   "outputs": [
    {
     "data": {
      "text/plain": [
       "<Axes: xlabel='Class', ylabel='Count'>"
      ]
     },
     "execution_count": 9,
     "metadata": {},
     "output_type": "execute_result"
    },
    {
     "data": {
      "image/png": "[encoded data removed]",
      "text/plain": [
       "<Figure size 640x480 with 1 Axes>"
      ]
     },
     "metadata": {},
     "output_type": "display_data"
    }
   ],
   "source": [
    "df = pd.concat([df_test, df_train])\n",
    "sns.histplot(data=df, x='Class', bins=2)"
   ]
  },
  {
   "cell_type": "code",
   "execution_count": 10,
   "metadata": {
    "colab": {
     "base_uri": "https://localhost:8080/"
    },
    "id": "lXTDXWV7nsFV",
    "outputId": "62ec3ab8-c2b0-4e7f-c5e2-71c06f62bc94"
   },
   "outputs": [
    {
     "name": "stdout",
     "output_type": "stream",
     "text": [
      "Porcentage of frauds: 0.17%\n",
      "Porcentage of non frauds: 99.83%\n"
     ]
    }
   ],
   "source": [
    "frauds = (df['Class'].values == 1).sum()\n",
    "frauds = 100 * frauds / df.shape[0]\n",
    "print(f\"Porcentage of frauds: {round(frauds, 2)}%\")\n",
    "print(f\"Porcentage of non frauds: {100 - round(frauds, 2)}%\")"
   ]
  },
  {
   "cell_type": "markdown",
   "metadata": {
    "id": "wmbhB1HJY-Um"
   },
   "source": [
    "A coluna 'Time' indica o momento em que a transação foi realizada, ou seja, é um metadado que indica o tempo de criação dos dados a que se refere, portando não deve ser usada como input do modelo nem como o output desejado."
   ]
  },
  {
   "cell_type": "markdown",
   "metadata": {
    "id": "fbQDSgdFZi_6"
   },
   "source": [
    "# Questão 2"
   ]
  },
  {
   "cell_type": "code",
   "execution_count": 11,
   "metadata": {
    "id": "3SBmCAgsZkzj"
   },
   "outputs": [],
   "source": [
    "y = df_test['Class'].to_numpy()"
   ]
  },
  {
   "cell_type": "code",
   "execution_count": 12,
   "metadata": {
    "id": "l47N02hQiQA0"
   },
   "outputs": [],
   "source": [
    "random_model = np.random.binomial(size=y.shape[0], p=0.5, n=1)\n",
    "fraud_model = np.ones(y.shape[0])\n",
    "not_fraud_model = np.zeros(y.shape[0])"
   ]
  },
  {
   "cell_type": "code",
   "execution_count": 13,
   "metadata": {
    "id": "hv3iXX3JmheF"
   },
   "outputs": [],
   "source": [
    "acc_random = accuracy_score(y, random_model)\n",
    "acc_fraud = accuracy_score(y, fraud_model)\n",
    "acc_not_fraud = accuracy_score(y, not_fraud_model)"
   ]
  },
  {
   "cell_type": "code",
   "execution_count": 14,
   "metadata": {
    "id": "TbSa3ac3m8I1"
   },
   "outputs": [],
   "source": [
    "auc_random = roc_auc_score(y, random_model)\n",
    "auc_fraud = roc_auc_score(y, fraud_model)\n",
    "auc_not_fraud = roc_auc_score(y, not_fraud_model)"
   ]
  },
  {
   "cell_type": "code",
   "execution_count": 15,
   "metadata": {
    "colab": {
     "base_uri": "https://localhost:8080/"
    },
    "id": "vajVqziDnhqe",
    "outputId": "fcb27aa1-a1f1-4386-e85c-d3f86f836bf7"
   },
   "outputs": [
    {
     "name": "stdout",
     "output_type": "stream",
     "text": [
      "╒══════════╤══════════╤════════════════╤═══════════════╕\n",
      "│          │  Random  │  Always fraud  │  Never fraud  │\n",
      "╞══════════╪══════════╪════════════════╪═══════════════╡\n",
      "│ Accuracy │ 0.499343 │   0.00156598   │   0.998434    │\n",
      "├──────────┼──────────┼────────────────┼───────────────┤\n",
      "│ AUC      │  0.5187  │      0.5       │      0.5      │\n",
      "╘══════════╧══════════╧════════════════╧═══════════════╛\n"
     ]
    }
   ],
   "source": [
    "table = [['',        'Random',    'Always fraud',   'Never fraud'], \n",
    "         ['Accuracy', acc_random, acc_fraud,        acc_not_fraud], \n",
    "         ['AUC',      auc_random, auc_fraud,        auc_not_fraud]]\n",
    "print(tabulate(table, headers='firstrow', tablefmt='fancy_grid', numalign=\"center\"))"
   ]
  },
  {
   "cell_type": "markdown",
   "metadata": {
    "id": "tWFpWhHUorU8"
   },
   "source": [
    "Visto que os três modelos não consideram nenhum input, são todos ruins, logo as métricas deveriam refletir isso. A acurácia, então, não é uma métrica apropriada, tendo em vista seu resultado próximo a 1 para o modelo que sempre classifica as transações como não fraudulentas. Isso se deve à má adaptação da acurácia para bases de dados não balanceadas, como é o caso, já que a grande maioria das transações são não fraudulentas. Portanto, a melhor métrica para ser utilizada aqui é a AUC."
   ]
  },
  {
   "cell_type": "markdown",
   "metadata": {
    "id": "XsCSa9Rzp74y"
   },
   "source": [
    "# Questão 3"
   ]
  },
  {
   "cell_type": "code",
   "execution_count": 16,
   "metadata": {
    "id": "r3qmJ6aLl2Ah"
   },
   "outputs": [],
   "source": [
    "X = df_train.drop(['Class'], axis=1)\n",
    "X = X.drop(['Time'], axis=1)\n",
    "y = df_train['Class']"
   ]
  },
  {
   "cell_type": "code",
   "execution_count": 17,
   "metadata": {
    "id": "Ea-9rD3zYB3D"
   },
   "outputs": [],
   "source": [
    "parameters = {'n_estimators':[10, 50, 100, 200], 'max_depth':[2, 3, 4, 5]}"
   ]
  },
  {
   "cell_type": "code",
   "execution_count": 18,
   "metadata": {
    "id": "fNQ_sLlpl0kz"
   },
   "outputs": [],
   "source": [
    "rfc_a = RandomForestClassifier(random_state = 42) \n",
    "grid_a = GridSearchCV(estimator = rfc_a,          \n",
    "                    param_grid = parameters,  \n",
    "                    scoring = 'roc_auc',           \n",
    "                    cv = 3) "
   ]
  },
  {
   "cell_type": "code",
   "execution_count": 19,
   "metadata": {
    "colab": {
     "base_uri": "https://localhost:8080/",
     "height": 551
    },
    "id": "dXp7DTw3eyRz",
    "outputId": "a6565c01-4341-499b-a904-6ab88ba09b68"
   },
   "outputs": [
    {
     "data": {
      "text/html": [
       "<div>\n",
       "<style scoped>\n",
       "    .dataframe tbody tr th:only-of-type {\n",
       "        vertical-align: middle;\n",
       "    }\n",
       "\n",
       "    .dataframe tbody tr th {\n",
       "        vertical-align: top;\n",
       "    }\n",
       "\n",
       "    .dataframe thead th {\n",
       "        text-align: right;\n",
       "    }\n",
       "</style>\n",
       "<table border=\"1\" class=\"dataframe\">\n",
       "  <thead>\n",
       "    <tr style=\"text-align: right;\">\n",
       "      <th></th>\n",
       "      <th>params</th>\n",
       "      <th>rank_test_score</th>\n",
       "      <th>mean_test_score</th>\n",
       "    </tr>\n",
       "  </thead>\n",
       "  <tbody>\n",
       "    <tr>\n",
       "      <th>0</th>\n",
       "      <td>{'max_depth': 2, 'n_estimators': 10}</td>\n",
       "      <td>16</td>\n",
       "      <td>0.917621</td>\n",
       "    </tr>\n",
       "    <tr>\n",
       "      <th>1</th>\n",
       "      <td>{'max_depth': 2, 'n_estimators': 50}</td>\n",
       "      <td>14</td>\n",
       "      <td>0.932838</td>\n",
       "    </tr>\n",
       "    <tr>\n",
       "      <th>2</th>\n",
       "      <td>{'max_depth': 2, 'n_estimators': 100}</td>\n",
       "      <td>15</td>\n",
       "      <td>0.932678</td>\n",
       "    </tr>\n",
       "    <tr>\n",
       "      <th>3</th>\n",
       "      <td>{'max_depth': 2, 'n_estimators': 200}</td>\n",
       "      <td>11</td>\n",
       "      <td>0.943110</td>\n",
       "    </tr>\n",
       "    <tr>\n",
       "      <th>4</th>\n",
       "      <td>{'max_depth': 3, 'n_estimators': 10}</td>\n",
       "      <td>13</td>\n",
       "      <td>0.941626</td>\n",
       "    </tr>\n",
       "    <tr>\n",
       "      <th>5</th>\n",
       "      <td>{'max_depth': 3, 'n_estimators': 50}</td>\n",
       "      <td>12</td>\n",
       "      <td>0.942590</td>\n",
       "    </tr>\n",
       "    <tr>\n",
       "      <th>6</th>\n",
       "      <td>{'max_depth': 3, 'n_estimators': 100}</td>\n",
       "      <td>8</td>\n",
       "      <td>0.950664</td>\n",
       "    </tr>\n",
       "    <tr>\n",
       "      <th>7</th>\n",
       "      <td>{'max_depth': 3, 'n_estimators': 200}</td>\n",
       "      <td>7</td>\n",
       "      <td>0.954357</td>\n",
       "    </tr>\n",
       "    <tr>\n",
       "      <th>8</th>\n",
       "      <td>{'max_depth': 4, 'n_estimators': 10}</td>\n",
       "      <td>10</td>\n",
       "      <td>0.944402</td>\n",
       "    </tr>\n",
       "    <tr>\n",
       "      <th>9</th>\n",
       "      <td>{'max_depth': 4, 'n_estimators': 50}</td>\n",
       "      <td>4</td>\n",
       "      <td>0.961995</td>\n",
       "    </tr>\n",
       "    <tr>\n",
       "      <th>10</th>\n",
       "      <td>{'max_depth': 4, 'n_estimators': 100}</td>\n",
       "      <td>6</td>\n",
       "      <td>0.960811</td>\n",
       "    </tr>\n",
       "    <tr>\n",
       "      <th>11</th>\n",
       "      <td>{'max_depth': 4, 'n_estimators': 200}</td>\n",
       "      <td>5</td>\n",
       "      <td>0.961734</td>\n",
       "    </tr>\n",
       "    <tr>\n",
       "      <th>12</th>\n",
       "      <td>{'max_depth': 5, 'n_estimators': 10}</td>\n",
       "      <td>9</td>\n",
       "      <td>0.948187</td>\n",
       "    </tr>\n",
       "    <tr>\n",
       "      <th>13</th>\n",
       "      <td>{'max_depth': 5, 'n_estimators': 50}</td>\n",
       "      <td>3</td>\n",
       "      <td>0.962950</td>\n",
       "    </tr>\n",
       "    <tr>\n",
       "      <th>14</th>\n",
       "      <td>{'max_depth': 5, 'n_estimators': 100}</td>\n",
       "      <td>1</td>\n",
       "      <td>0.967359</td>\n",
       "    </tr>\n",
       "    <tr>\n",
       "      <th>15</th>\n",
       "      <td>{'max_depth': 5, 'n_estimators': 200}</td>\n",
       "      <td>2</td>\n",
       "      <td>0.965970</td>\n",
       "    </tr>\n",
       "  </tbody>\n",
       "</table>\n",
       "</div>"
      ],
      "text/plain": [
       "                                   params  rank_test_score  mean_test_score\n",
       "0    {'max_depth': 2, 'n_estimators': 10}               16         0.917621\n",
       "1    {'max_depth': 2, 'n_estimators': 50}               14         0.932838\n",
       "2   {'max_depth': 2, 'n_estimators': 100}               15         0.932678\n",
       "3   {'max_depth': 2, 'n_estimators': 200}               11         0.943110\n",
       "4    {'max_depth': 3, 'n_estimators': 10}               13         0.941626\n",
       "5    {'max_depth': 3, 'n_estimators': 50}               12         0.942590\n",
       "6   {'max_depth': 3, 'n_estimators': 100}                8         0.950664\n",
       "7   {'max_depth': 3, 'n_estimators': 200}                7         0.954357\n",
       "8    {'max_depth': 4, 'n_estimators': 10}               10         0.944402\n",
       "9    {'max_depth': 4, 'n_estimators': 50}                4         0.961995\n",
       "10  {'max_depth': 4, 'n_estimators': 100}                6         0.960811\n",
       "11  {'max_depth': 4, 'n_estimators': 200}                5         0.961734\n",
       "12   {'max_depth': 5, 'n_estimators': 10}                9         0.948187\n",
       "13   {'max_depth': 5, 'n_estimators': 50}                3         0.962950\n",
       "14  {'max_depth': 5, 'n_estimators': 100}                1         0.967359\n",
       "15  {'max_depth': 5, 'n_estimators': 200}                2         0.965970"
      ]
     },
     "execution_count": 19,
     "metadata": {},
     "output_type": "execute_result"
    }
   ],
   "source": [
    "grid_a.fit(X, y)\n",
    "pd.DataFrame(grid_a.cv_results_)[['params','rank_test_score','mean_test_score']]"
   ]
  },
  {
   "cell_type": "markdown",
   "metadata": {
    "id": "dpXIw83HvW2P"
   },
   "source": [
    "Portanto, a melhor combinação de parâmetros é max_depth = 5 e n_estimators = 100."
   ]
  },
  {
   "cell_type": "markdown",
   "metadata": {
    "id": "m7u8SevazXqM"
   },
   "source": [
    "Com o hiperparâmetro 'class_weight' sendo 'balanced', as linhas de dados terão peso na avaliação inversamente proporcional à frequência da sua classe na base de dados, ou seja, os casos de fraude terão maior peso do que anteriormente, em que o hiperparâmetro padrão era utilizado."
   ]
  },
  {
   "cell_type": "code",
   "execution_count": 20,
   "metadata": {
    "id": "OaT0k5aYmB8V"
   },
   "outputs": [],
   "source": [
    "rfc_b = RandomForestClassifier(random_state = 42, class_weight='balanced') \n",
    "grid_b = GridSearchCV(estimator = rfc_b,          \n",
    "                    param_grid = parameters,  \n",
    "                    scoring = 'roc_auc',           \n",
    "                    cv = 3) "
   ]
  },
  {
   "cell_type": "code",
   "execution_count": 21,
   "metadata": {
    "colab": {
     "base_uri": "https://localhost:8080/",
     "height": 551
    },
    "id": "C35SeDjEmm-H",
    "outputId": "d690af71-b026-4ed6-f467-27b92265010a"
   },
   "outputs": [
    {
     "data": {
      "text/html": [
       "<div>\n",
       "<style scoped>\n",
       "    .dataframe tbody tr th:only-of-type {\n",
       "        vertical-align: middle;\n",
       "    }\n",
       "\n",
       "    .dataframe tbody tr th {\n",
       "        vertical-align: top;\n",
       "    }\n",
       "\n",
       "    .dataframe thead th {\n",
       "        text-align: right;\n",
       "    }\n",
       "</style>\n",
       "<table border=\"1\" class=\"dataframe\">\n",
       "  <thead>\n",
       "    <tr style=\"text-align: right;\">\n",
       "      <th></th>\n",
       "      <th>params</th>\n",
       "      <th>rank_test_score</th>\n",
       "      <th>mean_test_score</th>\n",
       "    </tr>\n",
       "  </thead>\n",
       "  <tbody>\n",
       "    <tr>\n",
       "      <th>0</th>\n",
       "      <td>{'max_depth': 2, 'n_estimators': 10}</td>\n",
       "      <td>16</td>\n",
       "      <td>0.958461</td>\n",
       "    </tr>\n",
       "    <tr>\n",
       "      <th>1</th>\n",
       "      <td>{'max_depth': 2, 'n_estimators': 50}</td>\n",
       "      <td>13</td>\n",
       "      <td>0.968971</td>\n",
       "    </tr>\n",
       "    <tr>\n",
       "      <th>2</th>\n",
       "      <td>{'max_depth': 2, 'n_estimators': 100}</td>\n",
       "      <td>14</td>\n",
       "      <td>0.966224</td>\n",
       "    </tr>\n",
       "    <tr>\n",
       "      <th>3</th>\n",
       "      <td>{'max_depth': 2, 'n_estimators': 200}</td>\n",
       "      <td>11</td>\n",
       "      <td>0.970468</td>\n",
       "    </tr>\n",
       "    <tr>\n",
       "      <th>4</th>\n",
       "      <td>{'max_depth': 3, 'n_estimators': 10}</td>\n",
       "      <td>15</td>\n",
       "      <td>0.959800</td>\n",
       "    </tr>\n",
       "    <tr>\n",
       "      <th>5</th>\n",
       "      <td>{'max_depth': 3, 'n_estimators': 50}</td>\n",
       "      <td>12</td>\n",
       "      <td>0.970257</td>\n",
       "    </tr>\n",
       "    <tr>\n",
       "      <th>6</th>\n",
       "      <td>{'max_depth': 3, 'n_estimators': 100}</td>\n",
       "      <td>9</td>\n",
       "      <td>0.971872</td>\n",
       "    </tr>\n",
       "    <tr>\n",
       "      <th>7</th>\n",
       "      <td>{'max_depth': 3, 'n_estimators': 200}</td>\n",
       "      <td>8</td>\n",
       "      <td>0.972556</td>\n",
       "    </tr>\n",
       "    <tr>\n",
       "      <th>8</th>\n",
       "      <td>{'max_depth': 4, 'n_estimators': 10}</td>\n",
       "      <td>10</td>\n",
       "      <td>0.971551</td>\n",
       "    </tr>\n",
       "    <tr>\n",
       "      <th>9</th>\n",
       "      <td>{'max_depth': 4, 'n_estimators': 50}</td>\n",
       "      <td>3</td>\n",
       "      <td>0.978525</td>\n",
       "    </tr>\n",
       "    <tr>\n",
       "      <th>10</th>\n",
       "      <td>{'max_depth': 4, 'n_estimators': 100}</td>\n",
       "      <td>4</td>\n",
       "      <td>0.977040</td>\n",
       "    </tr>\n",
       "    <tr>\n",
       "      <th>11</th>\n",
       "      <td>{'max_depth': 4, 'n_estimators': 200}</td>\n",
       "      <td>7</td>\n",
       "      <td>0.975453</td>\n",
       "    </tr>\n",
       "    <tr>\n",
       "      <th>12</th>\n",
       "      <td>{'max_depth': 5, 'n_estimators': 10}</td>\n",
       "      <td>6</td>\n",
       "      <td>0.976522</td>\n",
       "    </tr>\n",
       "    <tr>\n",
       "      <th>13</th>\n",
       "      <td>{'max_depth': 5, 'n_estimators': 50}</td>\n",
       "      <td>1</td>\n",
       "      <td>0.981053</td>\n",
       "    </tr>\n",
       "    <tr>\n",
       "      <th>14</th>\n",
       "      <td>{'max_depth': 5, 'n_estimators': 100}</td>\n",
       "      <td>2</td>\n",
       "      <td>0.980031</td>\n",
       "    </tr>\n",
       "    <tr>\n",
       "      <th>15</th>\n",
       "      <td>{'max_depth': 5, 'n_estimators': 200}</td>\n",
       "      <td>5</td>\n",
       "      <td>0.976608</td>\n",
       "    </tr>\n",
       "  </tbody>\n",
       "</table>\n",
       "</div>"
      ],
      "text/plain": [
       "                                   params  rank_test_score  mean_test_score\n",
       "0    {'max_depth': 2, 'n_estimators': 10}               16         0.958461\n",
       "1    {'max_depth': 2, 'n_estimators': 50}               13         0.968971\n",
       "2   {'max_depth': 2, 'n_estimators': 100}               14         0.966224\n",
       "3   {'max_depth': 2, 'n_estimators': 200}               11         0.970468\n",
       "4    {'max_depth': 3, 'n_estimators': 10}               15         0.959800\n",
       "5    {'max_depth': 3, 'n_estimators': 50}               12         0.970257\n",
       "6   {'max_depth': 3, 'n_estimators': 100}                9         0.971872\n",
       "7   {'max_depth': 3, 'n_estimators': 200}                8         0.972556\n",
       "8    {'max_depth': 4, 'n_estimators': 10}               10         0.971551\n",
       "9    {'max_depth': 4, 'n_estimators': 50}                3         0.978525\n",
       "10  {'max_depth': 4, 'n_estimators': 100}                4         0.977040\n",
       "11  {'max_depth': 4, 'n_estimators': 200}                7         0.975453\n",
       "12   {'max_depth': 5, 'n_estimators': 10}                6         0.976522\n",
       "13   {'max_depth': 5, 'n_estimators': 50}                1         0.981053\n",
       "14  {'max_depth': 5, 'n_estimators': 100}                2         0.980031\n",
       "15  {'max_depth': 5, 'n_estimators': 200}                5         0.976608"
      ]
     },
     "execution_count": 21,
     "metadata": {},
     "output_type": "execute_result"
    }
   ],
   "source": [
    "grid_b.fit(X, y)\n",
    "pd.DataFrame(grid_b.cv_results_)[['params','rank_test_score','mean_test_score']]"
   ]
  },
  {
   "cell_type": "markdown",
   "metadata": {
    "id": "eoi9ipe3v7hW"
   },
   "source": [
    "Portanto a melhor combinação de parâmetros encontrada, ajustando os pesos para compensar o desbalanceamento da base de dados, é max_depth = 5 e n_estimators = 50."
   ]
  },
  {
   "cell_type": "markdown",
   "metadata": {
    "id": "kJ7eWJvLzayU"
   },
   "source": [
    "# Questão 4"
   ]
  },
  {
   "cell_type": "code",
   "execution_count": 22,
   "metadata": {
    "id": "p_IbBG300TkB"
   },
   "outputs": [],
   "source": [
    "X_test = df_test.drop(['Class'], axis=1)\n",
    "X_test = X_test.drop(['Time'], axis=1)\n",
    "y_test = df_test['Class'].to_numpy()"
   ]
  },
  {
   "cell_type": "code",
   "execution_count": 23,
   "metadata": {
    "id": "elABZKt_zeGW"
   },
   "outputs": [],
   "source": [
    "probabilities = grid_b.predict_proba(X_test)"
   ]
  },
  {
   "cell_type": "code",
   "execution_count": 24,
   "metadata": {
    "id": "lJOlTWPx11yZ"
   },
   "outputs": [],
   "source": [
    "# concatenate probabilities with actual result\n",
    "compare = np.insert(probabilities, 0, y_test, axis=1)\n",
    "# sort by probability of being a fraud\n",
    "compare = compare[compare[:, 2].argsort()[::-1]]\n",
    "# take the top 1%\n",
    "compare = compare[0:compare.shape[0]//100]\n",
    "\n",
    "lucro = 0\n",
    "for line in compare:\n",
    "  if line[0] == 1: \n",
    "    lucro += 100\n",
    "  else:\n",
    "    lucro -= 2"
   ]
  },
  {
   "cell_type": "code",
   "execution_count": 25,
   "metadata": {
    "colab": {
     "base_uri": "https://localhost:8080/"
    },
    "id": "EYnHbLnI5R8i",
    "outputId": "17182a83-31aa-4efd-b2a1-14cc658d23d0"
   },
   "outputs": [
    {
     "name": "stdout",
     "output_type": "stream",
     "text": [
      "O lucro obtido seria R$ 16532\n"
     ]
    }
   ],
   "source": [
    "print(f\"O lucro obtido seria R$ {lucro}\")"
   ]
  }
 ],
 "metadata": {
  "colab": {
   "provenance": []
  },
  "kernelspec": {
   "display_name": "Python 3 (ipykernel)",
   "language": "python",
   "name": "python3"
  },
  "language_info": {
   "codemirror_mode": {
    "name": "ipython",
    "version": 3
   },
   "file_extension": ".py",
   "mimetype": "text/x-python",
   "name": "python",
   "nbconvert_exporter": "python",
   "pygments_lexer": "ipython3",
   "version": "3.10.6"
  }
 },
 "nbformat": 4,
 "nbformat_minor": 1
}
