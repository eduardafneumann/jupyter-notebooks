{
 "cells": [
  {
   "cell_type": "markdown",
   "metadata": {},
   "source": [
    "This notebook studies a dataset of frauds in credit card transactions and creates a model that identifies a suspect transaction."
   ]
  },
  {
   "cell_type": "code",
   "execution_count": 1,
   "metadata": {
    "colab": {
     "base_uri": "https://localhost:8080/"
    },
    "id": "1OvTiGtAQ-TD",
    "outputId": "54c64187-a684-4fe8-851a-8961899dc1fd",
    "scrolled": true
   },
   "outputs": [],
   "source": [
    "import pandas as pd\n",
    "import seaborn as sns\n",
    "import numpy as np\n",
    "from tabulate import tabulate\n",
    "from sklearn.metrics import accuracy_score, roc_auc_score\n",
    "from sklearn.ensemble import RandomForestClassifier\n",
    "from sklearn.model_selection import GridSearchCV"
   ]
  },
  {
   "cell_type": "markdown",
   "metadata": {},
   "source": [
    "# Load dataset"
   ]
  },
  {
   "cell_type": "markdown",
   "metadata": {
    "id": "wmbhB1HJY-Um"
   },
   "source": [
    "The 'Time' column indicates the moment when the transaction was made, that is, it is a metadata and should not be used in the model.\n"
   ]
  },
  {
   "cell_type": "code",
   "execution_count": 2,
   "metadata": {
    "scrolled": true
   },
   "outputs": [
    {
     "data": {
      "text/html": [
       "<div>\n",
       "<style scoped>\n",
       "    .dataframe tbody tr th:only-of-type {\n",
       "        vertical-align: middle;\n",
       "    }\n",
       "\n",
       "    .dataframe tbody tr th {\n",
       "        vertical-align: top;\n",
       "    }\n",
       "\n",
       "    .dataframe thead th {\n",
       "        text-align: right;\n",
       "    }\n",
       "</style>\n",
       "<table border=\"1\" class=\"dataframe\">\n",
       "  <thead>\n",
       "    <tr style=\"text-align: right;\">\n",
       "      <th></th>\n",
       "      <th>V1</th>\n",
       "      <th>V2</th>\n",
       "      <th>V3</th>\n",
       "      <th>V4</th>\n",
       "      <th>V5</th>\n",
       "      <th>V6</th>\n",
       "      <th>V7</th>\n",
       "      <th>V8</th>\n",
       "      <th>V9</th>\n",
       "      <th>V10</th>\n",
       "      <th>...</th>\n",
       "      <th>V21</th>\n",
       "      <th>V22</th>\n",
       "      <th>V23</th>\n",
       "      <th>V24</th>\n",
       "      <th>V25</th>\n",
       "      <th>V26</th>\n",
       "      <th>V27</th>\n",
       "      <th>V28</th>\n",
       "      <th>Amount</th>\n",
       "      <th>Class</th>\n",
       "    </tr>\n",
       "  </thead>\n",
       "  <tbody>\n",
       "    <tr>\n",
       "      <th>0</th>\n",
       "      <td>-0.439952</td>\n",
       "      <td>0.683758</td>\n",
       "      <td>1.225814</td>\n",
       "      <td>0.639113</td>\n",
       "      <td>0.716765</td>\n",
       "      <td>0.089295</td>\n",
       "      <td>0.657718</td>\n",
       "      <td>0.034213</td>\n",
       "      <td>-0.472679</td>\n",
       "      <td>0.352698</td>\n",
       "      <td>...</td>\n",
       "      <td>0.127443</td>\n",
       "      <td>0.588590</td>\n",
       "      <td>-0.145728</td>\n",
       "      <td>-0.322900</td>\n",
       "      <td>-0.299744</td>\n",
       "      <td>-0.310295</td>\n",
       "      <td>0.248317</td>\n",
       "      <td>-0.011493</td>\n",
       "      <td>19.00</td>\n",
       "      <td>0</td>\n",
       "    </tr>\n",
       "    <tr>\n",
       "      <th>1</th>\n",
       "      <td>-4.868108</td>\n",
       "      <td>1.264420</td>\n",
       "      <td>-5.167885</td>\n",
       "      <td>3.193648</td>\n",
       "      <td>-3.045621</td>\n",
       "      <td>-2.096166</td>\n",
       "      <td>-6.445610</td>\n",
       "      <td>2.422536</td>\n",
       "      <td>-3.214055</td>\n",
       "      <td>-8.745973</td>\n",
       "      <td>...</td>\n",
       "      <td>1.269205</td>\n",
       "      <td>0.057657</td>\n",
       "      <td>0.629307</td>\n",
       "      <td>-0.168432</td>\n",
       "      <td>0.443744</td>\n",
       "      <td>0.276539</td>\n",
       "      <td>1.441274</td>\n",
       "      <td>-0.127944</td>\n",
       "      <td>12.31</td>\n",
       "      <td>1</td>\n",
       "    </tr>\n",
       "    <tr>\n",
       "      <th>2</th>\n",
       "      <td>1.013114</td>\n",
       "      <td>-0.334412</td>\n",
       "      <td>1.305208</td>\n",
       "      <td>0.837406</td>\n",
       "      <td>-1.126833</td>\n",
       "      <td>-0.064321</td>\n",
       "      <td>-0.594753</td>\n",
       "      <td>0.147737</td>\n",
       "      <td>0.536360</td>\n",
       "      <td>-0.120472</td>\n",
       "      <td>...</td>\n",
       "      <td>0.017079</td>\n",
       "      <td>0.112210</td>\n",
       "      <td>-0.016084</td>\n",
       "      <td>0.595033</td>\n",
       "      <td>0.201073</td>\n",
       "      <td>0.278215</td>\n",
       "      <td>0.007457</td>\n",
       "      <td>0.030762</td>\n",
       "      <td>66.60</td>\n",
       "      <td>0</td>\n",
       "    </tr>\n",
       "    <tr>\n",
       "      <th>3</th>\n",
       "      <td>0.969231</td>\n",
       "      <td>-0.233554</td>\n",
       "      <td>0.238473</td>\n",
       "      <td>0.145793</td>\n",
       "      <td>-0.545741</td>\n",
       "      <td>-0.970680</td>\n",
       "      <td>0.347393</td>\n",
       "      <td>-0.209522</td>\n",
       "      <td>-0.342571</td>\n",
       "      <td>-0.100331</td>\n",
       "      <td>...</td>\n",
       "      <td>-0.362820</td>\n",
       "      <td>-1.417272</td>\n",
       "      <td>0.162136</td>\n",
       "      <td>0.541628</td>\n",
       "      <td>-0.079465</td>\n",
       "      <td>0.268702</td>\n",
       "      <td>-0.101237</td>\n",
       "      <td>0.028234</td>\n",
       "      <td>141.00</td>\n",
       "      <td>0</td>\n",
       "    </tr>\n",
       "    <tr>\n",
       "      <th>4</th>\n",
       "      <td>-0.856523</td>\n",
       "      <td>1.080875</td>\n",
       "      <td>1.866956</td>\n",
       "      <td>1.729941</td>\n",
       "      <td>-0.161741</td>\n",
       "      <td>0.028789</td>\n",
       "      <td>0.401787</td>\n",
       "      <td>0.043774</td>\n",
       "      <td>-0.213916</td>\n",
       "      <td>0.155907</td>\n",
       "      <td>...</td>\n",
       "      <td>0.007365</td>\n",
       "      <td>0.077392</td>\n",
       "      <td>-0.221906</td>\n",
       "      <td>0.394141</td>\n",
       "      <td>0.237225</td>\n",
       "      <td>-0.080102</td>\n",
       "      <td>-0.291408</td>\n",
       "      <td>0.092140</td>\n",
       "      <td>2.60</td>\n",
       "      <td>0</td>\n",
       "    </tr>\n",
       "  </tbody>\n",
       "</table>\n",
       "<p>5 rows × 30 columns</p>\n",
       "</div>"
      ],
      "text/plain": [
       "         V1        V2        V3        V4        V5        V6        V7  \\\n",
       "0 -0.439952  0.683758  1.225814  0.639113  0.716765  0.089295  0.657718   \n",
       "1 -4.868108  1.264420 -5.167885  3.193648 -3.045621 -2.096166 -6.445610   \n",
       "2  1.013114 -0.334412  1.305208  0.837406 -1.126833 -0.064321 -0.594753   \n",
       "3  0.969231 -0.233554  0.238473  0.145793 -0.545741 -0.970680  0.347393   \n",
       "4 -0.856523  1.080875  1.866956  1.729941 -0.161741  0.028789  0.401787   \n",
       "\n",
       "         V8        V9       V10  ...       V21       V22       V23       V24  \\\n",
       "0  0.034213 -0.472679  0.352698  ...  0.127443  0.588590 -0.145728 -0.322900   \n",
       "1  2.422536 -3.214055 -8.745973  ...  1.269205  0.057657  0.629307 -0.168432   \n",
       "2  0.147737  0.536360 -0.120472  ...  0.017079  0.112210 -0.016084  0.595033   \n",
       "3 -0.209522 -0.342571 -0.100331  ... -0.362820 -1.417272  0.162136  0.541628   \n",
       "4  0.043774 -0.213916  0.155907  ...  0.007365  0.077392 -0.221906  0.394141   \n",
       "\n",
       "        V25       V26       V27       V28  Amount  Class  \n",
       "0 -0.299744 -0.310295  0.248317 -0.011493   19.00      0  \n",
       "1  0.443744  0.276539  1.441274 -0.127944   12.31      1  \n",
       "2  0.201073  0.278215  0.007457  0.030762   66.60      0  \n",
       "3 -0.079465  0.268702 -0.101237  0.028234  141.00      0  \n",
       "4  0.237225 -0.080102 -0.291408  0.092140    2.60      0  \n",
       "\n",
       "[5 rows x 30 columns]"
      ]
     },
     "execution_count": 2,
     "metadata": {},
     "output_type": "execute_result"
    }
   ],
   "source": [
    "df_train = pd.read_csv('train.csv', sep=',', decimal='.').drop('Time', axis=1)\n",
    "df_test = pd.read_csv('test.csv', sep=',', decimal='.').drop('Time', axis=1)\n",
    "df = pd.concat([df_test, df_train])\n",
    "df.head()"
   ]
  },
  {
   "cell_type": "code",
   "execution_count": 3,
   "metadata": {},
   "outputs": [],
   "source": [
    "X_train = df_train.drop(['Class'], axis=1)\n",
    "y_train = df_train['Class']\n",
    "\n",
    "X_test = df_test.drop(['Class'], axis=1)\n",
    "y_test = df_test['Class']"
   ]
  },
  {
   "cell_type": "markdown",
   "metadata": {
    "id": "FhpIMtJNYsrT"
   },
   "source": [
    "# Dataset study"
   ]
  },
  {
   "cell_type": "markdown",
   "metadata": {
    "id": "xImMPrsRYyl1"
   },
   "source": [
    "The answer variable is the column 'Class', with 1 representing a fraud and 0 a legal transaction."
   ]
  },
  {
   "cell_type": "code",
   "execution_count": 4,
   "metadata": {
    "colab": {
     "base_uri": "https://localhost:8080/",
     "height": 466
    },
    "id": "4oEc97EmWLUV",
    "outputId": "be7f983b-2371-4292-83a9-70d672461c3a"
   },
   "outputs": [
    {
     "data": {
      "text/plain": [
       "<Axes: xlabel='Class', ylabel='Count'>"
      ]
     },
     "execution_count": 4,
     "metadata": {},
     "output_type": "execute_result"
    },
    {
     "data": {
      "image/png": "[encoded data removed]",
      "text/plain": [
       "<Figure size 640x480 with 1 Axes>"
      ]
     },
     "metadata": {},
     "output_type": "display_data"
    }
   ],
   "source": [
    "sns.histplot(data=df, x='Class', bins=2)"
   ]
  },
  {
   "cell_type": "code",
   "execution_count": 5,
   "metadata": {
    "colab": {
     "base_uri": "https://localhost:8080/"
    },
    "id": "lXTDXWV7nsFV",
    "outputId": "62ec3ab8-c2b0-4e7f-c5e2-71c06f62bc94"
   },
   "outputs": [
    {
     "name": "stdout",
     "output_type": "stream",
     "text": [
      "Porcentage of frauds: 0.17%\n",
      "Porcentage of non frauds: 99.83%\n"
     ]
    }
   ],
   "source": [
    "frauds = (df['Class'].values == 1).sum()\n",
    "frauds = 100 * frauds / df.shape[0]\n",
    "print(f\"Porcentage of frauds: {round(frauds, 2)}%\")\n",
    "print(f\"Porcentage of non frauds: {100 - round(frauds, 2)}%\")"
   ]
  },
  {
   "cell_type": "markdown",
   "metadata": {},
   "source": [
    "As the great majority of transactions are not fraudulent, this dataset is not balanced, and the used metric should be chosen with that in mind."
   ]
  },
  {
   "cell_type": "markdown",
   "metadata": {
    "id": "fbQDSgdFZi_6"
   },
   "source": [
    "# AUC and Accuracy metrics"
   ]
  },
  {
   "cell_type": "markdown",
   "metadata": {},
   "source": [
    "To test the [AUC-ROC](https://en.wikipedia.org/wiki/Receiver_operating_characteristic) and accuracy metrics, let's define 3 different models, one that predicts every transaction to be fraudulent, one that predicts every transaction to be non-fraudulent and one that predicts each transaction to be fraudulent with a 50% change."
   ]
  },
  {
   "cell_type": "code",
   "execution_count": 6,
   "metadata": {
    "id": "3SBmCAgsZkzj"
   },
   "outputs": [],
   "source": [
    "y = df_test['Class'].to_numpy()\n",
    "model_fraud = np.ones(y.shape[0])\n",
    "model_non_fraud = np.zeros(y.shape[0])\n",
    "model_random = np.random.binomial(size=y.shape[0], p=0.5, n=1)\n",
    "\n",
    "acc_fraud = accuracy_score(y, model_fraud)\n",
    "acc_non_fraud = accuracy_score(y, model_non_fraud)\n",
    "acc_random = accuracy_score(y, model_random)\n",
    "\n",
    "auc_fraud = roc_auc_score(y, model_fraud)\n",
    "auc_non_fraud = roc_auc_score(y, model_non_fraud)\n",
    "auc_random = roc_auc_score(y, model_random)"
   ]
  },
  {
   "cell_type": "code",
   "execution_count": 7,
   "metadata": {
    "id": "l47N02hQiQA0"
   },
   "outputs": [
    {
     "name": "stdout",
     "output_type": "stream",
     "text": [
      "╒══════════╤══════════╤════════════════╤═══════════════╕\n",
      "│          │  Random  │  Always fraud  │  Never fraud  │\n",
      "╞══════════╪══════════╪════════════════╪═══════════════╡\n",
      "│ Accuracy │ 0.497714 │   0.00156598   │   0.998434    │\n",
      "├──────────┼──────────┼────────────────┼───────────────┤\n",
      "│ AUC      │ 0.486543 │      0.5       │      0.5      │\n",
      "╘══════════╧══════════╧════════════════╧═══════════════╛\n"
     ]
    }
   ],
   "source": [
    "table = [['',        'Random',    'Always fraud',   'Never fraud'], \n",
    "         ['Accuracy', acc_random, acc_fraud,        acc_non_fraud], \n",
    "         ['AUC',      auc_random, auc_fraud,        auc_non_fraud]]\n",
    "print(tabulate(table, headers='firstrow', tablefmt='fancy_grid', numalign=\"center\"))"
   ]
  },
  {
   "cell_type": "markdown",
   "metadata": {
    "id": "tWFpWhHUorU8"
   },
   "source": [
    "All 3 models are bad, so the metrics should reflect this. Since the accuracy metric gives a good score to the model that predicts all transactions to be non-fraudulent, it is not a good metric to use in this unbalanced dataset. Therefore, we will use the AUC-ROC metric in this notebook."
   ]
  },
  {
   "cell_type": "markdown",
   "metadata": {
    "id": "XsCSa9Rzp74y"
   },
   "source": [
    "# Define and train classificator"
   ]
  },
  {
   "cell_type": "markdown",
   "metadata": {},
   "source": [
    "Let's test some parameters and determine the best combination for this case.\n",
    "\n",
    "With the hiperparameter 'class_weight' as 'balanced', the database rows will have weight inverselly proportional to the frequency of its answer variable in the dataset, that is, the fraudulent transactions will have a bigger impact in the model."
   ]
  },
  {
   "cell_type": "code",
   "execution_count": 8,
   "metadata": {
    "id": "Ea-9rD3zYB3D"
   },
   "outputs": [],
   "source": [
    "parameters = {'n_estimators':[10, 50, 100], 'max_depth':[3, 4, 5]}"
   ]
  },
  {
   "cell_type": "code",
   "execution_count": 9,
   "metadata": {
    "id": "fNQ_sLlpl0kz"
   },
   "outputs": [],
   "source": [
    "rfc = RandomForestClassifier(class_weight='balanced') \n",
    "grid = GridSearchCV(estimator = rfc,          \n",
    "                    param_grid = parameters,  \n",
    "                    scoring = 'roc_auc',           \n",
    "                    cv = 3) "
   ]
  },
  {
   "cell_type": "code",
   "execution_count": 10,
   "metadata": {
    "colab": {
     "base_uri": "https://localhost:8080/",
     "height": 551
    },
    "id": "dXp7DTw3eyRz",
    "outputId": "a6565c01-4341-499b-a904-6ab88ba09b68"
   },
   "outputs": [
    {
     "data": {
      "text/html": [
       "<div>\n",
       "<style scoped>\n",
       "    .dataframe tbody tr th:only-of-type {\n",
       "        vertical-align: middle;\n",
       "    }\n",
       "\n",
       "    .dataframe tbody tr th {\n",
       "        vertical-align: top;\n",
       "    }\n",
       "\n",
       "    .dataframe thead th {\n",
       "        text-align: right;\n",
       "    }\n",
       "</style>\n",
       "<table border=\"1\" class=\"dataframe\">\n",
       "  <thead>\n",
       "    <tr style=\"text-align: right;\">\n",
       "      <th></th>\n",
       "      <th>params</th>\n",
       "      <th>rank_test_score</th>\n",
       "      <th>mean_test_score</th>\n",
       "    </tr>\n",
       "  </thead>\n",
       "  <tbody>\n",
       "    <tr>\n",
       "      <th>0</th>\n",
       "      <td>{'max_depth': 3, 'n_estimators': 10}</td>\n",
       "      <td>3</td>\n",
       "      <td>0.973151</td>\n",
       "    </tr>\n",
       "    <tr>\n",
       "      <th>1</th>\n",
       "      <td>{'max_depth': 3, 'n_estimators': 50}</td>\n",
       "      <td>1</td>\n",
       "      <td>0.975011</td>\n",
       "    </tr>\n",
       "    <tr>\n",
       "      <th>2</th>\n",
       "      <td>{'max_depth': 3, 'n_estimators': 100}</td>\n",
       "      <td>4</td>\n",
       "      <td>0.972889</td>\n",
       "    </tr>\n",
       "    <tr>\n",
       "      <th>3</th>\n",
       "      <td>{'max_depth': 4, 'n_estimators': 10}</td>\n",
       "      <td>6</td>\n",
       "      <td>0.971981</td>\n",
       "    </tr>\n",
       "    <tr>\n",
       "      <th>4</th>\n",
       "      <td>{'max_depth': 4, 'n_estimators': 50}</td>\n",
       "      <td>8</td>\n",
       "      <td>0.969085</td>\n",
       "    </tr>\n",
       "    <tr>\n",
       "      <th>5</th>\n",
       "      <td>{'max_depth': 4, 'n_estimators': 100}</td>\n",
       "      <td>2</td>\n",
       "      <td>0.975010</td>\n",
       "    </tr>\n",
       "    <tr>\n",
       "      <th>6</th>\n",
       "      <td>{'max_depth': 5, 'n_estimators': 10}</td>\n",
       "      <td>9</td>\n",
       "      <td>0.962852</td>\n",
       "    </tr>\n",
       "    <tr>\n",
       "      <th>7</th>\n",
       "      <td>{'max_depth': 5, 'n_estimators': 50}</td>\n",
       "      <td>7</td>\n",
       "      <td>0.971336</td>\n",
       "    </tr>\n",
       "    <tr>\n",
       "      <th>8</th>\n",
       "      <td>{'max_depth': 5, 'n_estimators': 100}</td>\n",
       "      <td>5</td>\n",
       "      <td>0.972727</td>\n",
       "    </tr>\n",
       "  </tbody>\n",
       "</table>\n",
       "</div>"
      ],
      "text/plain": [
       "                                  params  rank_test_score  mean_test_score\n",
       "0   {'max_depth': 3, 'n_estimators': 10}                3         0.973151\n",
       "1   {'max_depth': 3, 'n_estimators': 50}                1         0.975011\n",
       "2  {'max_depth': 3, 'n_estimators': 100}                4         0.972889\n",
       "3   {'max_depth': 4, 'n_estimators': 10}                6         0.971981\n",
       "4   {'max_depth': 4, 'n_estimators': 50}                8         0.969085\n",
       "5  {'max_depth': 4, 'n_estimators': 100}                2         0.975010\n",
       "6   {'max_depth': 5, 'n_estimators': 10}                9         0.962852\n",
       "7   {'max_depth': 5, 'n_estimators': 50}                7         0.971336\n",
       "8  {'max_depth': 5, 'n_estimators': 100}                5         0.972727"
      ]
     },
     "execution_count": 10,
     "metadata": {},
     "output_type": "execute_result"
    }
   ],
   "source": [
    "grid.fit(X_train, y_train)\n",
    "pd.DataFrame(grid.cv_results_)[['params','rank_test_score','mean_test_score']]"
   ]
  },
  {
   "cell_type": "markdown",
   "metadata": {
    "id": "dpXIw83HvW2P"
   },
   "source": [
    "Therefore, the best tested parameters combination is max_depth = 3 and n_estimators = 50."
   ]
  },
  {
   "cell_type": "markdown",
   "metadata": {
    "id": "kJ7eWJvLzayU"
   },
   "source": [
    "# Test the classifier"
   ]
  },
  {
   "cell_type": "markdown",
   "metadata": {},
   "source": [
    "Let's test the classifier assuming that: the top 1% of transactions identified as frauds by the classifier will be blocked, each fraud avoided generates $\\$$ 100 in profit and each non-fraudulent transaction blocked generates a loss of $\\$$ 2."
   ]
  },
  {
   "cell_type": "code",
   "execution_count": 11,
   "metadata": {
    "id": "elABZKt_zeGW"
   },
   "outputs": [
    {
     "name": "stdout",
     "output_type": "stream",
     "text": [
      "The net gain in this cenario would be $16940\n"
     ]
    }
   ],
   "source": [
    "predictions = grid.predict_proba(X_test)\n",
    "\n",
    "# Concatenate prediction and answers to sort and maintein relation\n",
    "comparasion = np.insert(predictions, 0, y_test, axis=1)\n",
    "\n",
    "# Sort and take the top 1% more likely to be frauds\n",
    "comparasion = comparasion[comparasion[:, 2].argsort()[::-1]]\n",
    "blocked_transactions = comparasion[0:comparasion.shape[0]//100]\n",
    "\n",
    "net_gain = 0\n",
    "for transaction in blocked_transactions:\n",
    "  if transaction[0] == 1: \n",
    "    net_gain += 100\n",
    "  else:\n",
    "    net_gain -= 2\n",
    "\n",
    "print(f\"The net gain in this cenario would be ${net_gain}\")"
   ]
  }
 ],
 "metadata": {
  "colab": {
   "provenance": []
  },
  "kernelspec": {
   "display_name": "Python 3 (ipykernel)",
   "language": "python",
   "name": "python3"
  },
  "language_info": {
   "codemirror_mode": {
    "name": "ipython",
    "version": 3
   },
   "file_extension": ".py",
   "mimetype": "text/x-python",
   "name": "python",
   "nbconvert_exporter": "python",
   "pygments_lexer": "ipython3",
   "version": "3.12.3"
  }
 },
 "nbformat": 4,
 "nbformat_minor": 4
}
