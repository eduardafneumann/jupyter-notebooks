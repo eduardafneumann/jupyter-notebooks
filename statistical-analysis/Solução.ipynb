{
  "nbformat": 4,
  "nbformat_minor": 0,
  "metadata": {
    "colab": {
      "provenance": [],
      "collapsed_sections": []
    },
    "kernelspec": {
      "name": "python3",
      "display_name": "Python 3"
    },
    "language_info": {
      "name": "python"
    }
  },
  "cells": [
    {
      "cell_type": "code",
      "source": [
        "import numpy as np\n",
        "import matplotlib.pyplot as plt\n",
        "import scipy.stats"
      ],
      "metadata": {
        "id": "Bh9Cps1XHsst"
      },
      "execution_count": null,
      "outputs": []
    },
    {
      "cell_type": "code",
      "source": [
        "base_hist = 100"
      ],
      "metadata": {
        "id": "rKod02r5uheV"
      },
      "execution_count": null,
      "outputs": []
    },
    {
      "cell_type": "code",
      "source": [
        "# primeira questao teorica e amostral\n",
        "def distribuicao_pergunta(n, f, sigma):\n",
        "  plt.figure(f\"pergunta_amostra_n{n}f{f*100:.0f}sigma{sigma*100:.0f}\")\n",
        "  \n",
        "  x_amostra = [np.random.normal(np.random.binomial(1, 1-f), scale=sigma) for i in range(n)]\n",
        "  k = np.linspace(np.min(x_amostra), np.max(x_amostra), base_hist)\n",
        "  plt.hist(x_amostra, bins=k)\n",
        "\n",
        "  plt.title(f\"n={n}, f={f}, sigma={sigma}\")\n",
        "  plt.xlabel('x', fontsize = 15)\n",
        "  plt.ylabel('#x', fontsize = 15)\n",
        "  plt.savefig(f\"pergunta_amostra_n{n}f{f*100:.0f}sigma{sigma*100:.0f}\")\n",
        "  \n",
        "  plt.figure(f\"pergunta_teorica_n{n}f{f*100:.0f}sigma{sigma*100:.0f}\")\n",
        "\n",
        "  a = f*scipy.stats.norm.pdf(k, 0, sigma)\n",
        "  b = (1-f)*scipy.stats.norm.pdf(k, 1, sigma)\n",
        "  s = [x + y for x, y in zip(a, b)]\n",
        "  plt.plot(k, a)\n",
        "  plt.plot(k, b)\n",
        "  plt.plot(k, s)\n",
        "\n",
        "  plt.title(f\"n={n}, f={f}, sigma={sigma}\")\n",
        "  plt.xlabel('x', fontsize = 15)\n",
        "  plt.ylabel('f(x)', fontsize = 15)\n",
        "  plt.savefig(f\"pergunta_teorica_n{n}f{f*100:.0f}sigma{sigma*100:.0f}\")"
      ],
      "metadata": {
        "id": "U7du1YK3245j"
      },
      "execution_count": null,
      "outputs": []
    },
    {
      "cell_type": "code",
      "source": [
        "# segunda questão, teórica e amostral\n",
        "def distribuicao_conjunta(n, f, sigma):\n",
        "  plt.figure(f\"conjunta_amostra_n{n}f{f*100:.0f}sigma{sigma*100:.0f}\")\n",
        "\n",
        "  p1 = []\n",
        "  p12 = []\n",
        "  p123 = [] \n",
        "  for i in range(n):\n",
        "    x = np.random.normal(np.random.binomial(1, 1-f), scale=sigma)\n",
        "    y = np.random.normal(np.random.binomial(1, 1-f), scale=sigma)\n",
        "    z = np.random.normal(np.random.binomial(1, 1-f), scale=sigma)\n",
        "    p1.append(x)\n",
        "    p12.append(x+y)\n",
        "    p123.append(x+y+z)\n",
        "\n",
        "  k = np.linspace(min(np.min(p1), np.min(p12), np.min(p123)), max(np.max(p1), np.max(p12), np.max(p123)), base_hist)\n",
        "  plt.hist(p1, bins=k, label='x')\n",
        "  plt.hist(p12, bins=k, label='x+y')\n",
        "  plt.hist(p123, bins=k, label='x+y+z')\n",
        "  plt.title(f\"n={n}, f={f}, sigma={sigma}\")\n",
        "  plt.legend(loc='upper right')\n",
        "  plt.savefig(f\"conjunta_amostra_n{n}f{f*100:.0f}sigma{sigma*100:.0f}\")\n"
      ],
      "metadata": {
        "id": "c_N_wxbi2GUT"
      },
      "execution_count": null,
      "outputs": []
    },
    {
      "cell_type": "code",
      "source": [
        "# quarta questão, amostral\n",
        "def distribuicao_estimativa(repeticoes, n, f, sigma):\n",
        "  plt.figure(f\"estimativa_r{repeticoes}n{n}f{f*100:.0f}sigma{sigma*100:.0f}\")\n",
        "\n",
        "  estimativas = []\n",
        "  erros = []\n",
        "  for i in range(repeticoes):\n",
        "    mu = np.random.binomial(1, 1-f)\n",
        "    est = 0\n",
        "    for i in range(n):\n",
        "      x = np.random.normal(mu, scale=sigma)\n",
        "      y = np.random.normal(mu, scale=sigma)\n",
        "      z = np.random.normal(mu, scale=sigma)\n",
        "      if(x+y+z<1.5):\n",
        "        est = est + 1\n",
        "    estimativas.append(est/n)\n",
        "    erros.append((est/n)-f)\n",
        "  \n",
        "  k = np.linspace(min(np.min(estimativas), np.min(erros)), max(np.max(estimativas), np.max(erros)), base_hist)\n",
        "  plt.hist(estimativas, bins=k, label='Estimativa')\n",
        "  plt.hist(erros, bins=k, label='Erro')\n",
        "\n",
        "  plt.title(f\"n={n}, f={f}, sigma={sigma}\")\n",
        "  plt.legend(loc='upper right')\n",
        "  plt.savefig(f\"estimativa_r{repeticoes}n{n}f{f*100:.0f}sigma{sigma*100:.0f}\")"
      ],
      "metadata": {
        "id": "mTdeJoQlQdnu"
      },
      "execution_count": null,
      "outputs": []
    },
    {
      "cell_type": "code",
      "source": [
        "for n in np.arange(10000, 13000, 1000):\n",
        "  for f in np.linspace(0.2, 0.8, 4):\n",
        "    for sigma in np.linspace(0.2, 5, 4):\n",
        "      distribuicao_pergunta(n, f, sigma)\n",
        "      distribuicao_conjunta(n, f, sigma)\n",
        "      distribuicao_estimativa(50, n, f, sigma)"
      ],
      "metadata": {
        "id": "q79TCCRxqb1Z"
      },
      "execution_count": null,
      "outputs": []
    },
    {
      "cell_type": "code",
      "source": [
        "# quarta questão, teórica\n",
        "for f in [0.2, 0.4, 0.8]:\n",
        "  for sigma in [0.2, 1.8, 3.4, 5]:\n",
        "    plt.figure(f\"f = {f}, sigma = {sigma}\")\n",
        "    n = 2000\n",
        "    xf = np.linspace(-6, 9, n)\n",
        "    Fdist1 = f*scipy.stats.norm.pdf(xf, 0, np.sqrt(3)*sigma)\n",
        "    Fdist2 = (1-f)*scipy.stats.norm.pdf(xf, 3, np.sqrt(3)*sigma)\n",
        "    Ftot = []\n",
        "    for i in range(0, n):\n",
        "        Ftot.append(Fdist1[i]+Fdist2[i])\n",
        "    a1 = plt.plot(xf, Fdist1, color = 'orange')\n",
        "    a2 = plt.plot(xf, Fdist2, color = 'blue')\n",
        "    a3 = plt.plot(xf, Ftot, color = 'green')\n",
        "    plt.title(f\"f = {f}, sigma = {sigma}\")\n",
        "    plt.ylabel(\"f(c)\")\n",
        "    plt.xlabel(\"c\")\n",
        "    plt.show\n",
        "    #para Fest, há quatro possíveis combinações\n",
        "    #Fest <3/2 && x E A\n",
        "    #Fest >3/2 && x E A\n",
        "    #Fest <3/2 && x E B\n",
        "    #Fest >3/2 && x E B\n",
        "    Fest = f*scipy.stats.norm.cdf(1.5, 0, np.sqrt(3)*sigma)+f*scipy.stats.norm.pdf(1.5, 1, np.sqrt(3)*sigma)\n",
        "    print(\"Fest:\", Fest, \"f:\", f)"
      ],
      "metadata": {
        "id": "QmsEL6pZqmMq"
      },
      "execution_count": null,
      "outputs": []
    }
  ]
}