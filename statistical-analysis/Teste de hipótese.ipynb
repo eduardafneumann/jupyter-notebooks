{
  "nbformat": 4,
  "nbformat_minor": 0,
  "metadata": {
    "colab": {
      "provenance": []
    },
    "kernelspec": {
      "name": "python3",
      "display_name": "Python 3"
    },
    "language_info": {
      "name": "python"
    }
  },
  "cells": [
    {
      "cell_type": "code",
      "source": [
        "from scipy.stats import norm, binom\n",
        "import numpy as np\n",
        "import matplotlib.pyplot as plt"
      ],
      "metadata": {
        "id": "FwPg3fNRIIlp"
      },
      "execution_count": null,
      "outputs": []
    },
    {
      "cell_type": "markdown",
      "source": [
        "# Relembrando"
      ],
      "metadata": {
        "id": "EDKCqjwXLfsc"
      }
    },
    {
      "cell_type": "markdown",
      "source": [
        "Temos uma população em que uma fração f vota em A e 1-f em B. Quando entrevistados com 3 perguntas com respostas quantitativas, os eleitores de A respondem cada uma com distribuição normal de média 0 e os de B com média 1, ambas distribuições com mesmo desvio padrão.  "
      ],
      "metadata": {
        "id": "_Fe3ioBzSdH4"
      }
    },
    {
      "cell_type": "markdown",
      "source": [
        "    X, Y, Z: respostas da primeira, segunda e terceira pergunta, respectivamente"
      ],
      "metadata": {
        "id": "Bikg5LDVS9hg"
      }
    },
    {
      "cell_type": "markdown",
      "source": [
        "    C = X + Y + Z"
      ],
      "metadata": {
        "id": "al5-mYa5TErV"
      }
    },
    {
      "cell_type": "markdown",
      "source": [
        "# Projeto 2 - Teste de Hipótese"
      ],
      "metadata": {
        "id": "O3sVpeqiLhXh"
      }
    },
    {
      "cell_type": "markdown",
      "source": [
        "O que assumiremos da população é que é gerada pela soma de duas normais, com média 0 e 1, de mesmo desvio padrão sigma, que representam, respectivamente f e 1-f fração da população, com f desconhecido e sigma conhecido, e que temos uma amostra de tamanho n."
      ],
      "metadata": {
        "id": "CSx-D5NMVAo-"
      }
    },
    {
      "cell_type": "code",
      "source": [
        "def gerar_amostra(f, sigma, n):\n",
        "  C = []\n",
        "  for i in range(n):\n",
        "    media = np.random.binomial(1, 1-f)\n",
        "    x = np.random.normal(media, scale=sigma)\n",
        "    y = np.random.normal(media, scale=sigma)\n",
        "    z = np.random.normal(media, scale=sigma)\n",
        "    c = x+y+z\n",
        "    C.append(c)\n",
        "  return C"
      ],
      "metadata": {
        "id": "wgcwEAucZZ7z"
      },
      "execution_count": 126,
      "outputs": []
    },
    {
      "cell_type": "code",
      "source": [
        "def grafico_amostra(C):\n",
        "  k = np.linspace(min(C), max(C), 100)\n",
        "  plt.hist(C, bins=k, label='C')\n",
        "  plt.ylabel(\"número de pessoas\")\n",
        "  plt.xlabel(\"soma das respostas\")"
      ],
      "metadata": {
        "id": "fBD2px8rZpMg"
      },
      "execution_count": null,
      "outputs": []
    },
    {
      "cell_type": "code",
      "source": [
        "C = gerar_amostra(0.6, 1.5, 10000)\n",
        "grafico_amostra(C)"
      ],
      "metadata": {
        "colab": {
          "base_uri": "https://localhost:8080/",
          "height": 279
        },
        "id": "BGFBOTsUdJpR",
        "outputId": "b6d765d9-9534-4d88-b8c4-060efe64f0c4"
      },
      "execution_count": null,
      "outputs": [
        {
          "output_type": "display_data",
          "data": {
            "text/plain": [
              "<Figure size 432x288 with 1 Axes>"
            ],
            "image/png": "[encoded data removed]"
          },
          "metadata": {
            "needs_background": "light"
          }
        }
      ]
    },
    {
      "cell_type": "markdown",
      "source": [
        "Faremos um teste de hipótese sobre o parâmetro f, ou seja, a proporção da população que vota em A, utilizando como variável aleatória a quantidade de eleitores cuja soma das respostas (c) é menor que 1.5. Definimos:\n",
        "\n",
        "    N: quantidade de eleitores cuja soma das respostas é inferior a 1.5"
      ],
      "metadata": {
        "id": "hb_kK2d0LmMU"
      }
    },
    {
      "cell_type": "markdown",
      "source": [
        "$H0: f = f0$\n",
        "\n",
        "$Ha: f < f0$"
      ],
      "metadata": {
        "id": "GbhgJiFiOjtS"
      }
    },
    {
      "cell_type": "markdown",
      "source": [
        "Assumimos a hipótese nula ($f=f0$) e desejamos modelar a distribuição de N. Temos:\n",
        "\n",
        "    N ~ Binomial(n, P(C < 1.5))\n",
        "\n",
        "onde n é o número de entrevistados."
      ],
      "metadata": {
        "id": "eMUqLuvDO1lq"
      }
    },
    {
      "cell_type": "markdown",
      "source": [
        "Desejamos então conhecer a função de densidade acumulada de C, visto que P(C < 1.5) = Fc(1.5). Temos que a distribuição de C, apenas para os eleitores de A, é\n",
        "\n",
        "    Ca ~ Normal(0, σ²) + Normal(0, σ²) + Normal(0, σ²) = Normal(0, 3σ²)\n",
        "\n",
        "E apenas para os eleitores de B é\n",
        "\n",
        "    Cb ~ Normal(1, σ²) + Normal(1, σ²) + Normal(1, σ²) = Normal(3, 3σ²)\n",
        "\n",
        "Logo \n",
        "\n",
        "    C ~ f*Ca + (1-f)*Cb\n",
        "    Fc(c) = f*Fca(c) + (1-f)*Fcb(c)\n",
        "\n",
        "Tendo como hipótese $f = f0$,\n",
        "\n",
        "    Fc(c) = f0*Fca(c) + (1-f0)*Fcb(c)"
      ],
      "metadata": {
        "id": "vY4bE54hWwD4"
      }
    },
    {
      "cell_type": "code",
      "source": [
        "def Fc(quantil, f0, sigma):\n",
        "  Fca = norm.cdf(quantil, 0, scale=np.sqrt(3)*sigma)\n",
        "  Fcb = norm.cdf(quantil, 3, scale=np.sqrt(3)*sigma)\n",
        "  return f0*Fca + (1-f0)*Fcb "
      ],
      "metadata": {
        "id": "DpubOcGiaQnt"
      },
      "execution_count": null,
      "outputs": []
    },
    {
      "cell_type": "markdown",
      "source": [
        "Com a modelagem pronta, vamos calcular a estatística do teste (quantidade de eleitores na amostra cujas respostas somam menos de 1.5)."
      ],
      "metadata": {
        "id": "R17kp9BgbU37"
      }
    },
    {
      "cell_type": "code",
      "source": [
        "def estatistica(C):\n",
        "  z = 0\n",
        "  for c in C:\n",
        "    if(c < 1.5): z += 1\n",
        "\n",
        "  return z"
      ],
      "metadata": {
        "id": "pct7ZrdabZxH"
      },
      "execution_count": null,
      "outputs": []
    },
    {
      "cell_type": "markdown",
      "source": [
        "\n",
        "\n",
        "---\n",
        "\n"
      ],
      "metadata": {
        "id": "sWniirxQlluu"
      }
    },
    {
      "cell_type": "markdown",
      "source": [
        "# Teste 1\n",
        "\n",
        "$H0: f = f0$\n",
        "\n",
        "$Ha: f < f0$"
      ],
      "metadata": {
        "id": "B3qgmbU0jhZP"
      }
    },
    {
      "cell_type": "code",
      "source": [
        "f0 = 0.5\n",
        "\n",
        "f = 0.48\n",
        "sigma = 1\n",
        "n = 100_000\n",
        "\n",
        "alpha = 0.05\n",
        "\n",
        "C = gerar_amostra(f, sigma, n)\n",
        "# grafico_amostra(C)\n",
        "\n",
        "z = estatistica(C)\n",
        "print(\"Estatística do teste: \", z)\n",
        "\n",
        "p_valor = binom.cdf(z, n, p=Fc(1.5, f0, sigma))\n",
        "print(\"P-valor: \", p_valor)\n",
        "\n",
        "if(p_valor > alpha): print(\"Não rejeitamos H0.\")\n",
        "else: print(\"Rejeitamos H0.\")"
      ],
      "metadata": {
        "colab": {
          "base_uri": "https://localhost:8080/"
        },
        "id": "6ns9_uLWa70Q",
        "outputId": "893aeeb1-dcd6-401e-a1e0-1a765d8da3ee"
      },
      "execution_count": 128,
      "outputs": [
        {
          "output_type": "stream",
          "name": "stdout",
          "text": [
            "Estatística do teste:  50\n",
            "P-valor:  0.5397946186935892\n",
            "Não rejeitamos H0.\n"
          ]
        }
      ]
    },
    {
      "cell_type": "markdown",
      "source": [
        "# Teste 2\n",
        "\n",
        "$H0: f = f0$\n",
        "\n",
        "$Ha: f > f0$"
      ],
      "metadata": {
        "id": "nmo_EeDXliHM"
      }
    },
    {
      "cell_type": "code",
      "source": [
        "f0 = 0.5\n",
        "f = 0.51\n",
        "sigma = 1\n",
        "n = 10_000\n",
        "alpha = 0.08\n",
        "\n",
        "C = gerar_amostra(f, sigma, n)\n",
        "# grafico_amostra(C)\n",
        "\n",
        "z = estatistica(C)\n",
        "print(\"Estatística do teste: \", z)\n",
        "\n",
        "p_valor = 1-binom.cdf(z, n, p=Fc(1.5, f0, sigma))\n",
        "print(\"P-valor: \", p_valor)\n",
        "\n",
        "if(p_valor > alpha): print(\"Não rejeitamos H0.\")\n",
        "else: print(\"Rejeitamos H0.\")"
      ],
      "metadata": {
        "colab": {
          "base_uri": "https://localhost:8080/"
        },
        "id": "kNtTFvw5lz5N",
        "outputId": "d257c815-0188-4228-fbcb-fc99092ffa61"
      },
      "execution_count": 113,
      "outputs": [
        {
          "output_type": "stream",
          "name": "stdout",
          "text": [
            "Estatística do teste:  5099\n",
            "P-valor:  0.023292763852473586\n",
            "Rejeitamos H0.\n"
          ]
        }
      ]
    },
    {
      "cell_type": "markdown",
      "source": [
        "# Teste 3\n",
        "\n",
        "$H0: f = f0$\n",
        "\n",
        "$Ha: f \\neq f0$"
      ],
      "metadata": {
        "id": "d9mzwISdmo9i"
      }
    },
    {
      "cell_type": "code",
      "source": [
        "f0 = 0.44\n",
        "f = 0.441\n",
        "sigma = 1\n",
        "n = 1_000_000\n",
        "alpha = 0.1\n",
        "\n",
        "C = gerar_amostra(f, sigma, n)\n",
        "# grafico_amostra(C)\n",
        "\n",
        "z = estatistica(C)\n",
        "print(\"Estatística do teste: \", z)\n",
        "\n",
        "acumulada = binom.cdf(z, n, p=Fc(1.5, f0, sigma))\n",
        "if(acumulada<0.5): \n",
        "  p_valor = 2*acumulada\n",
        "else: \n",
        "  p_valor = 2*(1-acumulada)\n",
        "print(\"P-valor: \", p_valor)\n",
        "\n",
        "if(p_valor > alpha): print(\"Não rejeitamos H0.\")\n",
        "else: print(\"Rejeitamos H0.\")"
      ],
      "metadata": {
        "colab": {
          "base_uri": "https://localhost:8080/"
        },
        "id": "SJpyGfSumsym",
        "outputId": "e7cb01be-b3c3-4381-9201-4320fdee884e"
      },
      "execution_count": 125,
      "outputs": [
        {
          "output_type": "stream",
          "name": "stdout",
          "text": [
            "Estatística do teste:  439\n",
            "P-valor:  0.13273213470424583\n",
            "Não rejeitamos H0.\n"
          ]
        }
      ]
    }
  ]
}